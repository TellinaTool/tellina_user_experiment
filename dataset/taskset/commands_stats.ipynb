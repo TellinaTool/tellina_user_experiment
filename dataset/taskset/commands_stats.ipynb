{
 "metadata": {
  "language_info": {
   "codemirror_mode": {
    "name": "ipython",
    "version": 3
   },
   "file_extension": ".py",
   "mimetype": "text/x-python",
   "name": "python",
   "nbconvert_exporter": "python",
   "pygments_lexer": "ipython3",
   "version": "3.8.2-final"
  },
  "orig_nbformat": 2,
  "kernelspec": {
   "name": "python3",
   "display_name": "Python 3.8.2 64-bit ('tellina_user_experiment-65j9YKWx': venv)",
   "metadata": {
    "interpreter": {
     "hash": "88e02d8b38c0ca10414930ef37b0874608644ba09e66a1fb661290f5798bbb18"
    }
   }
  }
 },
 "nbformat": 4,
 "nbformat_minor": 2,
 "cells": [
  {
   "cell_type": "code",
   "execution_count": null,
   "metadata": {},
   "outputs": [],
   "source": [
    "import pandas as pd\n",
    "import matplotlib.pyplot as plt\n",
    "\n",
    "df = pd.read_csv('commands.csv')\n",
    "df.head()"
   ]
  },
  {
   "cell_type": "code",
   "execution_count": null,
   "metadata": {},
   "outputs": [],
   "source": [
    "df['#utils'] = df['Commands'].apply(lambda commands : len(commands.split()))\n",
    "df['#utils'].describe()"
   ]
  },
  {
   "cell_type": "code",
   "execution_count": null,
   "metadata": {},
   "outputs": [],
   "source": [
    "utils = []\n",
    "for util_list in df['Commands'].tolist():\n",
    "    utils.extend(util_list.split())\n",
    "utils_freqs = pd.Series(utils).value_counts().to_frame(name='Frequency').reset_index().rename(columns={'index': 'Utility'})"
   ]
  },
  {
   "cell_type": "code",
   "execution_count": null,
   "metadata": {},
   "outputs": [],
   "source": [
    "import seaborn as sns\n",
    "\n",
    "ax = sns.barplot(x=\"Frequency\", y=\"Utility\", color='grey', dodge=False, data=utils_freqs)\n",
    "plt.tight_layout()\n",
    "plt.savefig('utilities.pdf')"
   ]
  }
 ]
}