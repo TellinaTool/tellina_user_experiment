{
 "metadata": {
  "language_info": {
   "codemirror_mode": {
    "name": "ipython",
    "version": 3
   },
   "file_extension": ".py",
   "mimetype": "text/x-python",
   "name": "python",
   "nbconvert_exporter": "python",
   "pygments_lexer": "ipython3",
   "version": "3.8.2-final"
  },
  "orig_nbformat": 2,
  "kernelspec": {
   "name": "python3",
   "display_name": "Python 3.8.2 64-bit ('tellina_user_experiment': venv)",
   "metadata": {
    "interpreter": {
     "hash": "88e02d8b38c0ca10414930ef37b0874608644ba09e66a1fb661290f5798bbb18"
    }
   }
  }
 },
 "nbformat": 4,
 "nbformat_minor": 2,
 "cells": [
  {
   "cell_type": "code",
   "execution_count": null,
   "metadata": {},
   "outputs": [],
   "source": [
    "import pandas as pd\n",
    "\n",
    "bashoneliners = pd.read_csv('data-filtered/bashoneliners-top25-filtered.csv', names = ['Post', 'Title', 'Oneliner'])\n",
    "commandlinefu = pd.read_csv('data-filtered/commandlinefu-top25-filtered.csv', names = ['Post', 'Title', 'Oneliner'])\n",
    "stackoverflow = pd.read_csv('data-filtered/stackoverflow-top30.txt', names = ['Post'])\n",
    "superuser = pd.read_csv('data-filtered/superuser-top30.txt', names = ['Post'])\n",
    "unixlinux = pd.read_csv('data-filtered/unixlinux-top30.txt', names = ['Post'])\n",
    "\n",
    "frames = [bashoneliners.head(25), commandlinefu.head(25), stackoverflow.head(25), superuser.head(25), unixlinux.head(25)]\n",
    "\n",
    "df = pd.concat(frames, ignore_index=True)"
   ]
  },
  {
   "cell_type": "code",
   "execution_count": null,
   "metadata": {},
   "outputs": [],
   "source": [
    "sampled_posts = df.sample(16, random_state=42)\n",
    "sampled_posts"
   ]
  },
  {
   "cell_type": "code",
   "execution_count": 38,
   "metadata": {},
   "outputs": [],
   "source": [
    "#sampled_posts.to_csv('taskset/sampled_posts.csv', index=False)"
   ]
  },
  {
   "cell_type": "code",
   "execution_count": null,
   "metadata": {},
   "outputs": [],
   "source": []
  }
 ]
}