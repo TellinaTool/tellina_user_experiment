{
 "metadata": {
  "language_info": {
   "codemirror_mode": {
    "name": "ipython",
    "version": 3
   },
   "file_extension": ".py",
   "mimetype": "text/x-python",
   "name": "python",
   "nbconvert_exporter": "python",
   "pygments_lexer": "ipython3",
   "version": "3.9.0-final"
  },
  "orig_nbformat": 2,
  "kernelspec": {
   "name": "python3",
   "display_name": "Python 3.9.0 64-bit ('experiment_design-elRYqqYf': venv)",
   "metadata": {
    "interpreter": {
     "hash": "eae88d54940f71014325352a8529ac008c28567f45e8dc35be80969a341cc7a6"
    }
   }
  }
 },
 "nbformat": 4,
 "nbformat_minor": 2,
 "cells": [
  {
   "cell_type": "code",
   "execution_count": null,
   "metadata": {},
   "outputs": [],
   "source": [
    "input_file = 'freqs.cm'\n",
    "\n",
    "with open(input_file) as f:\n",
    "    cmd_frequencies = dict(x.split() for x in f)"
   ]
  },
  {
   "source": [
    "# Compatible commands with Tellina"
   ],
   "cell_type": "markdown",
   "metadata": {}
  },
  {
   "cell_type": "code",
   "execution_count": null,
   "metadata": {},
   "outputs": [],
   "source": [
    "commands = set(cmd_frequencies.keys())\n",
    "print(len(commands))\n",
    "print(', '.join(commands))"
   ]
  },
  {
   "source": [],
   "cell_type": "markdown",
   "metadata": {}
  }
 ]
}