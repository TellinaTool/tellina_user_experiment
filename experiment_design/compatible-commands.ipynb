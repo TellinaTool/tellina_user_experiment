{
 "metadata": {
  "language_info": {
   "codemirror_mode": {
    "name": "ipython",
    "version": 3
   },
   "file_extension": ".py",
   "mimetype": "text/x-python",
   "name": "python",
   "nbconvert_exporter": "python",
   "pygments_lexer": "ipython3",
   "version": "3.9.0-final"
  },
  "orig_nbformat": 2,
  "kernelspec": {
   "name": "python3",
   "display_name": "Python 3",
   "language": "python"
  }
 },
 "nbformat": 4,
 "nbformat_minor": 2,
 "cells": [
  {
   "source": [
    "# Compatible utilities with Tellina\n",
    "This utility extract the unique UNIX Bash utilities compatible with Tellina from the [NL2Bash training dataset](https://github.com/TellinaTool/nl2bash)."
   ],
   "cell_type": "markdown",
   "metadata": {}
  },
  {
   "cell_type": "code",
   "execution_count": null,
   "metadata": {},
   "outputs": [],
   "source": [
    "input_file = 'freqs.cm' # Frequencies for bash utilites in the NL2Bash training dataset\n",
    "\n",
    "with open(input_file) as f:\n",
    "    cmd_frequencies = dict(x.split() for x in f)"
   ]
  },
  {
   "cell_type": "code",
   "execution_count": null,
   "metadata": {},
   "outputs": [],
   "source": [
    "commands = list(set(cmd_frequencies.keys()))\n",
    "print(len(commands))\n",
    "\n",
    "sorted(commands)\n",
    "print(', '.join(commands))"
   ]
  },
  {
   "source": [],
   "cell_type": "markdown",
   "metadata": {}
  }
 ]
}